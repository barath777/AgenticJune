{
 "cells": [
  {
   "cell_type": "code",
   "execution_count": 1,
   "id": "96f6a052-d750-490d-a224-dbc9bc9a09fe",
   "metadata": {},
   "outputs": [
    {
     "name": "stdout",
     "output_type": "stream",
     "text": [
      "✅ JSON Loaded Successfully\n",
      "{\n",
      "    \"restart service\": \"C:\\\\Users\\\\Lenovo\\\\OneDrive\\\\Desktop\\\\Orch\\\\alert_system\\\\remediation_scripts\\\\restart_service.bat\"\n",
      "}\n"
     ]
    }
   ],
   "source": [
    "from pathlib import Path\n",
    "import json\n",
    "\n",
    "BASE_DIR = Path().resolve().parent  # Adjust if needed\n",
    "DATA_DIR = BASE_DIR / \"Mapping\"\n",
    "mapping_file = DATA_DIR / \"mapping.json\"\n",
    "\n",
    "# Test: Read and print JSON file\n",
    "try:\n",
    "    with open(mapping_file, 'r') as f:\n",
    "        action_map = json.load(f)\n",
    "    print(\"✅ JSON Loaded Successfully\")\n",
    "    print(json.dumps(action_map, indent=4))\n",
    "except FileNotFoundError:\n",
    "    print(f\"❌ File not found: {mapping_file}\")\n"
   ]
  },
  {
   "cell_type": "code",
   "execution_count": 3,
   "id": "09faab2c-2b9a-4e5f-b344-8c93356b43af",
   "metadata": {},
   "outputs": [],
   "source": [
    "class RemediationAgent:\n",
    "    def __init__(self, mapping_file=DATA_DIR / \"mapping.json\"):\n",
    "        try:\n",
    "            with open(mapping_file, 'r') as f:\n",
    "                self.action_map = json.load(f)\n",
    "            print(\"✅ mapping.json loaded successfully\")\n",
    "        except FileNotFoundError:\n",
    "            raise FileNotFoundError(f\"Mapping file not found at {mapping_file}\")\n",
    "\n",
    "    def perform_remediation(self, action_types: list[str]):\n",
    "        executed = []\n",
    "        errors = []\n",
    "\n",
    "        for action in action_types:\n",
    "            script = self.action_map.get(action)\n",
    "            if script:\n",
    "                print(f\"🔧 Attempting to run: {script} for action: {action}\")\n",
    "                try:\n",
    "                    subprocess.run([script], check=True, shell=True)\n",
    "                    executed.append({\"action\": action, \"script\": script, \"status\": \"success\"})\n",
    "                except subprocess.CalledProcessError as e:\n",
    "                    print(f\"❌ Failed to run: {script}\")\n",
    "                    errors.append({\n",
    "                        \"action\": action,\n",
    "                        \"script\": script,\n",
    "                        \"status\": \"failed\",\n",
    "                        \"error\": str(e)\n",
    "                    })\n",
    "            else:\n",
    "                print(f\"⚠️ Action '{action}' not found in mapping.json\")\n",
    "                errors.append({\n",
    "                    \"action\": action,\n",
    "                    \"status\": \"not found in mapping\"\n",
    "                })\n",
    "\n",
    "        return {\n",
    "            \"executed\": executed,\n",
    "            \"errors\": errors\n",
    "        }"
   ]
  },
  {
   "cell_type": "code",
   "execution_count": 4,
   "id": "05fb914b-2148-46d3-bde4-34a5d37ee88c",
   "metadata": {},
   "outputs": [
    {
     "name": "stdout",
     "output_type": "stream",
     "text": [
      "✅ mapping.json loaded successfully\n",
      "✅ RemediationAgent Initialized\n",
      "{\n",
      "    \"restart service\": \"C:\\\\Users\\\\Lenovo\\\\OneDrive\\\\Desktop\\\\Orch\\\\alert_system\\\\remediation_scripts\\\\restart_service.bat\"\n",
      "}\n"
     ]
    }
   ],
   "source": [
    "# Copy class code into a cell or import it if saved\n",
    "agent = RemediationAgent()\n",
    "print(\"✅ RemediationAgent Initialized\")\n",
    "print(json.dumps(agent.action_map, indent=4))\n"
   ]
  },
  {
   "cell_type": "code",
   "execution_count": 14,
   "id": "4354e851-f4e3-4ca0-bdfe-87be2daa348e",
   "metadata": {},
   "outputs": [
    {
     "name": "stdout",
     "output_type": "stream",
     "text": [
      "🔧 Attempting to run: C:\\Users\\Lenovo\\OneDrive\\Desktop\\Orch\\alert_system\\remediation_scripts\\restart_service.bat for action: restart service\n"
     ]
    },
    {
     "ename": "NameError",
     "evalue": "name 'subprocess' is not defined",
     "output_type": "error",
     "traceback": [
      "\u001b[1;31m---------------------------------------------------------------------------\u001b[0m",
      "\u001b[1;31mNameError\u001b[0m                                 Traceback (most recent call last)",
      "Cell \u001b[1;32mIn[3], line 19\u001b[0m, in \u001b[0;36mRemediationAgent.perform_remediation\u001b[1;34m(self, action_types)\u001b[0m\n\u001b[0;32m     18\u001b[0m \u001b[38;5;28;01mtry\u001b[39;00m:\n\u001b[1;32m---> 19\u001b[0m     \u001b[43msubprocess\u001b[49m\u001b[38;5;241m.\u001b[39mrun([script], check\u001b[38;5;241m=\u001b[39m\u001b[38;5;28;01mTrue\u001b[39;00m, shell\u001b[38;5;241m=\u001b[39m\u001b[38;5;28;01mTrue\u001b[39;00m)\n\u001b[0;32m     20\u001b[0m     executed\u001b[38;5;241m.\u001b[39mappend({\u001b[38;5;124m\"\u001b[39m\u001b[38;5;124maction\u001b[39m\u001b[38;5;124m\"\u001b[39m: action, \u001b[38;5;124m\"\u001b[39m\u001b[38;5;124mscript\u001b[39m\u001b[38;5;124m\"\u001b[39m: script, \u001b[38;5;124m\"\u001b[39m\u001b[38;5;124mstatus\u001b[39m\u001b[38;5;124m\"\u001b[39m: \u001b[38;5;124m\"\u001b[39m\u001b[38;5;124msuccess\u001b[39m\u001b[38;5;124m\"\u001b[39m})\n",
      "\u001b[1;31mNameError\u001b[0m: name 'subprocess' is not defined",
      "\nDuring handling of the above exception, another exception occurred:\n",
      "\u001b[1;31mNameError\u001b[0m                                 Traceback (most recent call last)",
      "Cell \u001b[1;32mIn[14], line 1\u001b[0m\n\u001b[1;32m----> 1\u001b[0m result \u001b[38;5;241m=\u001b[39m \u001b[43magent\u001b[49m\u001b[38;5;241;43m.\u001b[39;49m\u001b[43mperform_remediation\u001b[49m\u001b[43m(\u001b[49m\u001b[43m[\u001b[49m\u001b[38;5;124;43m\"\u001b[39;49m\u001b[38;5;124;43mrestart service\u001b[39;49m\u001b[38;5;124;43m\"\u001b[39;49m\u001b[43m]\u001b[49m\u001b[43m)\u001b[49m\n\u001b[0;32m      2\u001b[0m \u001b[38;5;28mprint\u001b[39m(\u001b[38;5;124m\"\u001b[39m\u001b[38;5;124m🔁 Remediation Result:\u001b[39m\u001b[38;5;124m\"\u001b[39m)\n\u001b[0;32m      3\u001b[0m \u001b[38;5;28mprint\u001b[39m(json\u001b[38;5;241m.\u001b[39mdumps(result, indent\u001b[38;5;241m=\u001b[39m\u001b[38;5;241m4\u001b[39m))\n",
      "Cell \u001b[1;32mIn[3], line 21\u001b[0m, in \u001b[0;36mRemediationAgent.perform_remediation\u001b[1;34m(self, action_types)\u001b[0m\n\u001b[0;32m     19\u001b[0m     subprocess\u001b[38;5;241m.\u001b[39mrun([script], check\u001b[38;5;241m=\u001b[39m\u001b[38;5;28;01mTrue\u001b[39;00m, shell\u001b[38;5;241m=\u001b[39m\u001b[38;5;28;01mTrue\u001b[39;00m)\n\u001b[0;32m     20\u001b[0m     executed\u001b[38;5;241m.\u001b[39mappend({\u001b[38;5;124m\"\u001b[39m\u001b[38;5;124maction\u001b[39m\u001b[38;5;124m\"\u001b[39m: action, \u001b[38;5;124m\"\u001b[39m\u001b[38;5;124mscript\u001b[39m\u001b[38;5;124m\"\u001b[39m: script, \u001b[38;5;124m\"\u001b[39m\u001b[38;5;124mstatus\u001b[39m\u001b[38;5;124m\"\u001b[39m: \u001b[38;5;124m\"\u001b[39m\u001b[38;5;124msuccess\u001b[39m\u001b[38;5;124m\"\u001b[39m})\n\u001b[1;32m---> 21\u001b[0m \u001b[38;5;28;01mexcept\u001b[39;00m \u001b[43msubprocess\u001b[49m\u001b[38;5;241m.\u001b[39mCalledProcessError \u001b[38;5;28;01mas\u001b[39;00m e:\n\u001b[0;32m     22\u001b[0m     \u001b[38;5;28mprint\u001b[39m(\u001b[38;5;124mf\u001b[39m\u001b[38;5;124m\"\u001b[39m\u001b[38;5;124m❌ Failed to run: \u001b[39m\u001b[38;5;132;01m{\u001b[39;00mscript\u001b[38;5;132;01m}\u001b[39;00m\u001b[38;5;124m\"\u001b[39m)\n\u001b[0;32m     23\u001b[0m     errors\u001b[38;5;241m.\u001b[39mappend({\n\u001b[0;32m     24\u001b[0m         \u001b[38;5;124m\"\u001b[39m\u001b[38;5;124maction\u001b[39m\u001b[38;5;124m\"\u001b[39m: action,\n\u001b[0;32m     25\u001b[0m         \u001b[38;5;124m\"\u001b[39m\u001b[38;5;124mscript\u001b[39m\u001b[38;5;124m\"\u001b[39m: script,\n\u001b[0;32m     26\u001b[0m         \u001b[38;5;124m\"\u001b[39m\u001b[38;5;124mstatus\u001b[39m\u001b[38;5;124m\"\u001b[39m: \u001b[38;5;124m\"\u001b[39m\u001b[38;5;124mfailed\u001b[39m\u001b[38;5;124m\"\u001b[39m,\n\u001b[0;32m     27\u001b[0m         \u001b[38;5;124m\"\u001b[39m\u001b[38;5;124merror\u001b[39m\u001b[38;5;124m\"\u001b[39m: \u001b[38;5;28mstr\u001b[39m(e)\n\u001b[0;32m     28\u001b[0m     })\n",
      "\u001b[1;31mNameError\u001b[0m: name 'subprocess' is not defined"
     ]
    }
   ],
   "source": [
    "result = agent.perform_remediation([\"restart service\"])\n",
    "print(\"🔁 Remediation Result:\")\n",
    "print(json.dumps(result, indent=4))\n"
   ]
  },
  {
   "cell_type": "code",
   "execution_count": null,
   "id": "3a9734ba-d02b-417a-a648-6ab18356dffa",
   "metadata": {},
   "outputs": [],
   "source": []
  }
 ],
 "metadata": {
  "kernelspec": {
   "display_name": "Python 3 (ipykernel)",
   "language": "python",
   "name": "python3"
  },
  "language_info": {
   "codemirror_mode": {
    "name": "ipython",
    "version": 3
   },
   "file_extension": ".py",
   "mimetype": "text/x-python",
   "name": "python",
   "nbconvert_exporter": "python",
   "pygments_lexer": "ipython3",
   "version": "3.13.1"
  }
 },
 "nbformat": 4,
 "nbformat_minor": 5
}
